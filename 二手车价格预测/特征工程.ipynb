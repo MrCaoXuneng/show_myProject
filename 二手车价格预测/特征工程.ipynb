{
 "cells": [
  {
   "cell_type": "markdown",
   "metadata": {},
   "source": [
    "## 特征工程（Feature Engineering）\n",
    "对特征进行进一步分析，并对数据进行处理。常见的特征工程包括：异常值处理、缺失值处理、数据分桶、特征处理、特征构造、特征筛选及降维等。"
   ]
  },
  {
   "cell_type": "markdown",
   "metadata": {},
   "source": [
    "### 数据及背景\n",
    "https://tianchi.aliyun.com/competition/entrance/231784/information（阿里天池-零基础入门数据挖掘）\n"
   ]
  },
  {
   "cell_type": "markdown",
   "metadata": {},
   "source": [
    "![title](img/p1.png)"
   ]
  },
  {
   "cell_type": "code",
   "execution_count": 6,
   "metadata": {},
   "outputs": [
    {
     "data": {
      "text/html": [
       "<img src='p1.png', width=500, height=400>\n"
      ],
      "text/plain": [
       "<IPython.core.display.HTML object>"
      ]
     },
     "metadata": {},
     "output_type": "display_data"
    }
   ],
   "source": [
    "%%html\n",
    "<img src='p1.png', width=500, height=400>"
   ]
  },
  {
   "cell_type": "code",
   "execution_count": 25,
   "metadata": {},
   "outputs": [],
   "source": [
    "from scipy.stats import boxcox\n",
    "import pandas as pd\n",
    "import numpy as np\n",
    "import matplotlib.pyplot as plt\n",
    "import seaborn as sns\n",
    "import warnings\n",
    "from scipy import stats\n",
    "warnings.filterwarnings(\"ignore\")\n",
    "%matplotlib inline"
   ]
  },
  {
   "cell_type": "code",
   "execution_count": 9,
   "metadata": {},
   "outputs": [],
   "source": [
    "# 颜色\n",
    "color = sns.color_palette()"
   ]
  },
  {
   "cell_type": "code",
   "execution_count": 13,
   "metadata": {},
   "outputs": [],
   "source": [
    "df_train = pd.read_csv('used_car_train_20200313.csv',sep = ' ')\n",
    "df_test = pd.read_csv('used_car_testB_20200421.csv',sep = ' ')"
   ]
  },
  {
   "cell_type": "code",
   "execution_count": 17,
   "metadata": {},
   "outputs": [],
   "source": [
    "# 将测试集和训练集和并 \n",
    "df_train[\"oringin\"]=\"train\"\n",
    "df_test[\"oringin\"]=\"test\"\n",
    "original_data = pd.concat([df_train,df_test],axis=0,ignore_index=True)"
   ]
  },
  {
   "cell_type": "code",
   "execution_count": 18,
   "metadata": {},
   "outputs": [
    {
     "data": {
      "text/html": [
       "<div>\n",
       "<style scoped>\n",
       "    .dataframe tbody tr th:only-of-type {\n",
       "        vertical-align: middle;\n",
       "    }\n",
       "\n",
       "    .dataframe tbody tr th {\n",
       "        vertical-align: top;\n",
       "    }\n",
       "\n",
       "    .dataframe thead th {\n",
       "        text-align: right;\n",
       "    }\n",
       "</style>\n",
       "<table border=\"1\" class=\"dataframe\">\n",
       "  <thead>\n",
       "    <tr style=\"text-align: right;\">\n",
       "      <th></th>\n",
       "      <th>SaleID</th>\n",
       "      <th>name</th>\n",
       "      <th>regDate</th>\n",
       "      <th>model</th>\n",
       "      <th>brand</th>\n",
       "      <th>bodyType</th>\n",
       "      <th>fuelType</th>\n",
       "      <th>gearbox</th>\n",
       "      <th>power</th>\n",
       "      <th>kilometer</th>\n",
       "      <th>...</th>\n",
       "      <th>v_6</th>\n",
       "      <th>v_7</th>\n",
       "      <th>v_8</th>\n",
       "      <th>v_9</th>\n",
       "      <th>v_10</th>\n",
       "      <th>v_11</th>\n",
       "      <th>v_12</th>\n",
       "      <th>v_13</th>\n",
       "      <th>v_14</th>\n",
       "      <th>oringin</th>\n",
       "    </tr>\n",
       "  </thead>\n",
       "  <tbody>\n",
       "    <tr>\n",
       "      <th>0</th>\n",
       "      <td>0</td>\n",
       "      <td>736</td>\n",
       "      <td>20040402</td>\n",
       "      <td>30.0</td>\n",
       "      <td>6</td>\n",
       "      <td>1.0</td>\n",
       "      <td>0.0</td>\n",
       "      <td>0.0</td>\n",
       "      <td>60</td>\n",
       "      <td>12.5</td>\n",
       "      <td>...</td>\n",
       "      <td>0.101988</td>\n",
       "      <td>0.129549</td>\n",
       "      <td>0.022816</td>\n",
       "      <td>0.097462</td>\n",
       "      <td>-2.881803</td>\n",
       "      <td>2.804097</td>\n",
       "      <td>-2.420821</td>\n",
       "      <td>0.795292</td>\n",
       "      <td>0.914762</td>\n",
       "      <td>train</td>\n",
       "    </tr>\n",
       "    <tr>\n",
       "      <th>1</th>\n",
       "      <td>1</td>\n",
       "      <td>2262</td>\n",
       "      <td>20030301</td>\n",
       "      <td>40.0</td>\n",
       "      <td>1</td>\n",
       "      <td>2.0</td>\n",
       "      <td>0.0</td>\n",
       "      <td>0.0</td>\n",
       "      <td>0</td>\n",
       "      <td>15.0</td>\n",
       "      <td>...</td>\n",
       "      <td>0.121004</td>\n",
       "      <td>0.135731</td>\n",
       "      <td>0.026597</td>\n",
       "      <td>0.020582</td>\n",
       "      <td>-4.900482</td>\n",
       "      <td>2.096338</td>\n",
       "      <td>-1.030483</td>\n",
       "      <td>-1.722674</td>\n",
       "      <td>0.245522</td>\n",
       "      <td>train</td>\n",
       "    </tr>\n",
       "    <tr>\n",
       "      <th>2</th>\n",
       "      <td>2</td>\n",
       "      <td>14874</td>\n",
       "      <td>20040403</td>\n",
       "      <td>115.0</td>\n",
       "      <td>15</td>\n",
       "      <td>1.0</td>\n",
       "      <td>0.0</td>\n",
       "      <td>0.0</td>\n",
       "      <td>163</td>\n",
       "      <td>12.5</td>\n",
       "      <td>...</td>\n",
       "      <td>0.114912</td>\n",
       "      <td>0.165147</td>\n",
       "      <td>0.062173</td>\n",
       "      <td>0.027075</td>\n",
       "      <td>-4.846749</td>\n",
       "      <td>1.803559</td>\n",
       "      <td>1.565330</td>\n",
       "      <td>-0.832687</td>\n",
       "      <td>-0.229963</td>\n",
       "      <td>train</td>\n",
       "    </tr>\n",
       "    <tr>\n",
       "      <th>3</th>\n",
       "      <td>3</td>\n",
       "      <td>71865</td>\n",
       "      <td>19960908</td>\n",
       "      <td>109.0</td>\n",
       "      <td>10</td>\n",
       "      <td>0.0</td>\n",
       "      <td>0.0</td>\n",
       "      <td>1.0</td>\n",
       "      <td>193</td>\n",
       "      <td>15.0</td>\n",
       "      <td>...</td>\n",
       "      <td>0.110300</td>\n",
       "      <td>0.121964</td>\n",
       "      <td>0.033395</td>\n",
       "      <td>0.000000</td>\n",
       "      <td>-4.509599</td>\n",
       "      <td>1.285940</td>\n",
       "      <td>-0.501868</td>\n",
       "      <td>-2.438353</td>\n",
       "      <td>-0.478699</td>\n",
       "      <td>train</td>\n",
       "    </tr>\n",
       "    <tr>\n",
       "      <th>4</th>\n",
       "      <td>4</td>\n",
       "      <td>111080</td>\n",
       "      <td>20120103</td>\n",
       "      <td>110.0</td>\n",
       "      <td>5</td>\n",
       "      <td>1.0</td>\n",
       "      <td>0.0</td>\n",
       "      <td>0.0</td>\n",
       "      <td>68</td>\n",
       "      <td>5.0</td>\n",
       "      <td>...</td>\n",
       "      <td>0.073205</td>\n",
       "      <td>0.091880</td>\n",
       "      <td>0.078819</td>\n",
       "      <td>0.121534</td>\n",
       "      <td>-1.896240</td>\n",
       "      <td>0.910783</td>\n",
       "      <td>0.931110</td>\n",
       "      <td>2.834518</td>\n",
       "      <td>1.923482</td>\n",
       "      <td>train</td>\n",
       "    </tr>\n",
       "  </tbody>\n",
       "</table>\n",
       "<p>5 rows × 32 columns</p>\n",
       "</div>"
      ],
      "text/plain": [
       "   SaleID    name   regDate  model  brand  bodyType  fuelType  gearbox  power  \\\n",
       "0       0     736  20040402   30.0      6       1.0       0.0      0.0     60   \n",
       "1       1    2262  20030301   40.0      1       2.0       0.0      0.0      0   \n",
       "2       2   14874  20040403  115.0     15       1.0       0.0      0.0    163   \n",
       "3       3   71865  19960908  109.0     10       0.0       0.0      1.0    193   \n",
       "4       4  111080  20120103  110.0      5       1.0       0.0      0.0     68   \n",
       "\n",
       "   kilometer  ...       v_6       v_7       v_8       v_9      v_10      v_11  \\\n",
       "0       12.5  ...  0.101988  0.129549  0.022816  0.097462 -2.881803  2.804097   \n",
       "1       15.0  ...  0.121004  0.135731  0.026597  0.020582 -4.900482  2.096338   \n",
       "2       12.5  ...  0.114912  0.165147  0.062173  0.027075 -4.846749  1.803559   \n",
       "3       15.0  ...  0.110300  0.121964  0.033395  0.000000 -4.509599  1.285940   \n",
       "4        5.0  ...  0.073205  0.091880  0.078819  0.121534 -1.896240  0.910783   \n",
       "\n",
       "       v_12      v_13      v_14  oringin  \n",
       "0 -2.420821  0.795292  0.914762    train  \n",
       "1 -1.030483 -1.722674  0.245522    train  \n",
       "2  1.565330 -0.832687 -0.229963    train  \n",
       "3 -0.501868 -2.438353 -0.478699    train  \n",
       "4  0.931110  2.834518  1.923482    train  \n",
       "\n",
       "[5 rows x 32 columns]"
      ]
     },
     "execution_count": 18,
     "metadata": {},
     "output_type": "execute_result"
    }
   ],
   "source": [
    "original_data.head()"
   ]
  },
  {
   "cell_type": "code",
   "execution_count": 22,
   "metadata": {},
   "outputs": [
    {
     "data": {
      "text/plain": [
       "<matplotlib.axes._subplots.AxesSubplot at 0x1e386f39cd0>"
      ]
     },
     "execution_count": 22,
     "metadata": {},
     "output_type": "execute_result"
    },
    {
     "data": {
      "image/png": "[encoded data removed]",
      "text/plain": [
       "<Figure size 432x288 with 1 Axes>"
      ]
     },
     "metadata": {
      "needs_background": "light"
     },
     "output_type": "display_data"
    }
   ],
   "source": [
    "original_data.boxplot(['power'])"
   ]
  },
  {
   "cell_type": "code",
   "execution_count": 27,
   "metadata": {},
   "outputs": [],
   "source": [
    "\"\"\"这里包装了一个异常值处理的代码，可以随便调用\"\"\"\n",
    "def outliers_proc(data, col_name, scale=3):\n",
    "    \"\"\"\n",
    "        用于截尾异常值， 默认用box_plot(scale=3)进行清洗\n",
    "        param:\n",
    "            data：接收pandas数据格式\n",
    "            col_name: pandas列名\n",
    "            scale: 尺度\n",
    "    \"\"\"\n",
    "    data_col = data[col_name]\n",
    "    Q1 = data_col.quantile(0.25) # 0.25分位数\n",
    "    Q3 = data_col.quantile(0.75)  # 0,75分位数\n",
    "    IQR = Q3 - Q1\n",
    "\n",
    "    data_col[data_col < Q1 - (scale * IQR)] = Q1 - (scale * IQR)\n",
    "    data_col[data_col > Q3 + (scale * IQR)] = Q3 + (scale * IQR)\n",
    "\n",
    "    return data[col_name]\n"
   ]
  },
  {
   "cell_type": "code",
   "execution_count": 26,
   "metadata": {},
   "outputs": [],
   "source": [
    "original_data['power'] = outliers_proc(original_data, 'power')"
   ]
  },
  {
   "cell_type": "code",
   "execution_count": 28,
   "metadata": {},
   "outputs": [
    {
     "data": {
      "text/plain": [
       "<matplotlib.axes._subplots.AxesSubplot at 0x1e395841a60>"
      ]
     },
     "execution_count": 28,
     "metadata": {},
     "output_type": "execute_result"
    },
    {
     "data": {
      "image/png": "[encoded data removed]",
      "text/plain": [
       "<Figure size 432x288 with 1 Axes>"
      ]
     },
     "metadata": {
      "needs_background": "light"
     },
     "output_type": "display_data"
    }
   ],
   "source": [
    "original_data.boxplot(['power'])"
   ]
  },
  {
   "cell_type": "code",
   "execution_count": 29,
   "metadata": {},
   "outputs": [],
   "source": [
    "def outliers_proc(data, col_name, scale=3):\n",
    "    \"\"\"\n",
    "    用于清洗异常值，默认用 box_plot（scale=3）进行清洗\n",
    "    :param data: 接收 pandas 数据格式\n",
    "    :param col_name: pandas 列名\n",
    "    :param scale: 尺度\n",
    "    :return:\n",
    "    \"\"\"\n",
    "\n",
    "    def box_plot_outliers(data_ser, box_scale):\n",
    "        \"\"\"\n",
    "        利用箱线图去除异常值\n",
    "        :param data_ser: 接收 pandas.Series 数据格式\n",
    "        :param box_scale: 箱线图尺度，\n",
    "        :return:\n",
    "        \"\"\"\n",
    "        iqr = box_scale * (data_ser.quantile(0.75) - data_ser.quantile(0.25))\n",
    "        val_low = data_ser.quantile(0.25) - iqr\n",
    "        val_up = data_ser.quantile(0.75) + iqr\n",
    "        rule_low = (data_ser < val_low)\n",
    "        rule_up = (data_ser > val_up)\n",
    "        return (rule_low, rule_up), (val_low, val_up)\n",
    "\n",
    "    data_n = data.copy()\n",
    "    data_series = data_n[col_name]\n",
    "    rule, value = box_plot_outliers(data_series, box_scale=scale)\n",
    "    index = np.arange(data_series.shape[0])[rule[0] | rule[1]]\n",
    "    print(\"Delete number is: {}\".format(len(index)))\n",
    "    data_n = data_n.drop(index)\n",
    "    data_n.reset_index(drop=True, inplace=True)\n",
    "    print(\"Now column number is: {}\".format(data_n.shape[0]))\n",
    "    index_low = np.arange(data_series.shape[0])[rule[0]]\n",
    "    outliers = data_series.iloc[index_low]\n",
    "    print(\"Description of data less than the lower bound is:\")\n",
    "    print(pd.Series(outliers).describe())\n",
    "    index_up = np.arange(data_series.shape[0])[rule[1]]\n",
    "    outliers = data_series.iloc[index_up]\n",
    "    print(\"Description of data larger than the upper bound is:\")\n",
    "    print(pd.Series(outliers).describe())\n",
    "\n",
    "    fig, ax = plt.subplots(1, 2, figsize=(10, 7))\n",
    "    sns.boxplot(y=data[col_name], data=data, palette=\"Set1\", ax=ax[0])\n",
    "    sns.boxplot(y=data_n[col_name], data=data_n, palette=\"Set1\", ax=ax[1])\n",
    "    return data_n"
   ]
  },
  {
   "cell_type": "code",
   "execution_count": 31,
   "metadata": {},
   "outputs": [
    {
     "data": {
      "text/plain": [
       "<matplotlib.axes._subplots.AxesSubplot at 0x1e3871e68e0>"
      ]
     },
     "execution_count": 31,
     "metadata": {},
     "output_type": "execute_result"
    },
    {
     "data": {
      "image/png": "[encoded data removed]",
      "text/plain": [
       "<Figure size 432x288 with 1 Axes>"
      ]
     },
     "metadata": {
      "needs_background": "light"
     },
     "output_type": "display_data"
    }
   ],
   "source": [
    "original_data['power'].hist()\n",
    "#power这个特征的分布也不错了，所以就没再进一步处理power，至于其他的数值型是不是需要截尾"
   ]
  },
  {
   "cell_type": "markdown",
   "metadata": {},
   "source": [
    "### 缺失值处理\n",
    "关于缺失值处理的方式， 有几种情况：\n",
    "\n",
    "不处理（这是针对xgboost等树模型），有些模型有处理缺失的机制，所以可以不处理\n",
    "\n",
    "如果缺失的太多，可以考虑删除该列\n",
    "\n",
    "插值补全（均值，中位数，众数，建模预测，多重插补等）\n",
    "\n",
    "分箱处理，缺失值一个箱。"
   ]
  },
  {
   "cell_type": "code",
   "execution_count": 32,
   "metadata": {},
   "outputs": [],
   "source": [
    "# # 删除重复值\n",
    "# #data.drop_duplicates()\n",
    "# # dropna()可以直接删除缺失样本，但是有点不太好\n",
    "\n",
    "# # 填充固定值\n",
    "# train_data.fillna(0, inplace=True) # 填充 0\n",
    "# data.fillna({0:1000, 1:100, 2:0, 4:5})   # 可以使用字典的形式为不用列设定不同的填充值\n",
    "\n",
    "# train_data.fillna(train_data.mean(),inplace=True) # 填充均值\n",
    "# train_data.fillna(train_data.median(),inplace=True) # 填充中位数\n",
    "# train_data.fillna(train_data.mode(),inplace=True) # 填充众数\n",
    "\n",
    "# train_data.fillna(method='pad', inplace=True) # 填充前一条数据的值，但是前一条也不一定有值\n",
    "# train_data.fillna(method='bfill', inplace=True) # 填充后一条数据的值，但是后一条也不一定有值\n",
    "\n",
    "# \"\"\"插值法：用插值法拟合出缺失的数据，然后进行填充。\"\"\"\n",
    "# for f in features: \n",
    "#     train_data[f] = train_data[f].interpolate()\n",
    "\n",
    "# train_data.dropna(inplace=True)\n",
    "\n",
    "# \"\"\"填充KNN数据：先利用knn计算临近的k个数据，然后填充他们的均值\"\"\"\n",
    "# from fancyimpute import KNN\n",
    "# train_data_x = pd.DataFrame(KNN(k=6).fit_transform(train_data_x), columns=features)"
   ]
  },
  {
   "cell_type": "markdown",
   "metadata": {},
   "source": [
    "original_data.info()"
   ]
  },
  {
   "cell_type": "markdown",
   "metadata": {},
   "source": [
    "### 数据分桶\n",
    "连续值经常离散化或者分离成“箱子”进行分析, 为什么要做数据分桶呢？\n",
    "\n",
    "离散后稀疏向量内积乘法运算速度更快，计算结果也方便存储，容易扩展；\n",
    "\n",
    "离散后的特征对异常值更具鲁棒性，如 age>30 为 1 否则为 0，对于年龄为 200 的也不会对模型造成很大的干扰； \n",
    "\n",
    "LR 属于广义线性模型，表达能力有限，经过离散化后，每个变量有单独的权重，这相当于引入了非线性，能够提升模型的表达能力，加大拟合；\n",
    "\n",
    "离散后特征可以进行特征交叉，提升表达能力，由 M+N 个变量编程 M*N 个变量，进一步引入非线形，提升了表达能力；\n",
    "\n",
    "特征离散后模型更稳定，如用户年龄区间，不会因为用户年龄长了一岁就变化\n",
    "\n",
    "\n",
    "\n",
    "当然还有很多原因，LightGBM 在改进 XGBoost 时就增加了数据分桶，增强了模型的泛化性。现在介绍数据分桶的方式：\n",
    "\n",
    "等频分桶\n",
    "\n",
    "等距分桶\n",
    "\n",
    "Best-KS分桶（类似利用基尼指数进行二分类）\n",
    "\n",
    "卡方分桶\n",
    "\n",
    "最好将数据分桶的特征作为新一列的特征，不要把原来的数据给替换掉, 所以在这里通过分桶的方式做一个特征出来看看，以power为例："
   ]
  },
  {
   "cell_type": "code",
   "execution_count": 35,
   "metadata": {},
   "outputs": [],
   "source": [
    "bin = [i*10 for i in range(31)]\n",
    "original_data['power_bin'] = pd.cut(original_data['power'], bin, labels=False)"
   ]
  },
  {
   "cell_type": "code",
   "execution_count": 36,
   "metadata": {},
   "outputs": [
    {
     "data": {
      "text/plain": [
       "<matplotlib.axes._subplots.AxesSubplot at 0x1e38cd24af0>"
      ]
     },
     "execution_count": 36,
     "metadata": {},
     "output_type": "execute_result"
    },
    {
     "data": {
      "image/png": "[encoded data removed]",
      "text/plain": [
       "<Figure size 432x288 with 1 Axes>"
      ]
     },
     "metadata": {
      "needs_background": "light"
     },
     "output_type": "display_data"
    }
   ],
   "source": [
    "original_data['power_bin'].hist()"
   ]
  },
  {
   "cell_type": "markdown",
   "metadata": {},
   "source": [
    "## 数据转换\n",
    "数据转换的方式有：\n",
    "\n",
    "数据归一化(MinMaxScaler)；\n",
    "\n",
    "标准化(StandardScaler)；\n",
    "\n",
    "对数变换(log1p)；\n",
    "\n",
    "转换数据类型(astype)；\n",
    "\n",
    "独热编码(OneHotEncoder)；\n",
    "\n",
    "标签编码(LabelEncoder)；\n",
    "\n",
    "修复偏斜特征(boxcox1p)等。"
   ]
  },
  {
   "cell_type": "markdown",
   "metadata": {},
   "source": [
    "1. 数值特征归一化， 因为这里数值的取值范围相差很大"
   ]
  },
  {
   "cell_type": "code",
   "execution_count": 37,
   "metadata": {},
   "outputs": [],
   "source": [
    "# minmax = MinMaxScaler()\n",
    "# num_data_minmax = minmax.fit_transform(num_data)\n",
    "# num_data_minmax = pd.DataFrame(num_data_minmax, columns=num_data.columns, index=num_data.index)"
   ]
  },
  {
   "cell_type": "markdown",
   "metadata": {},
   "source": [
    "2. 类别特征独热一下"
   ]
  },
  {
   "cell_type": "code",
   "execution_count": 38,
   "metadata": {},
   "outputs": [],
   "source": [
    "# \"\"\"类别特征某些需要独热编码一下\"\"\"\n",
    "# hot_features = ['bodyType', 'fuelType', 'gearbox', 'notRepairedDamage']\n",
    "# cat_data_hot = pd.get_dummies(cat_data, columns=hot_features)"
   ]
  },
  {
   "cell_type": "markdown",
   "metadata": {},
   "source": [
    "3. 关于高势集特征model，也就是类别中取值个数非常多的， 一般可以使用聚类的方式，然后独热，这里就采用了这种方式："
   ]
  },
  {
   "cell_type": "code",
   "execution_count": 39,
   "metadata": {},
   "outputs": [],
   "source": [
    "# from scipy.cluster.hierarchy import linkage, dendrogram\n",
    "# #from sklearn.cluster import AgglomerativeClustering\n",
    "# from sklearn.cluster import KMeans\n",
    "\n",
    "# ac = KMeans(n_clusters=3)\n",
    "# ac.fit(model_price_data)\n",
    "\n",
    "# model_fea = ac.predict(model_price_data)\n",
    "# plt.scatter(model_price_data[:,0], model_price_data[:,1], c=model_fea)\n",
    "\n",
    "# cat_data_hot['model_fea'] = model_fea\n",
    "# cat_data_hot = pd.get_dummies(cat_data_hot, columns=['model_fea'])"
   ]
  },
  {
   "cell_type": "markdown",
   "metadata": {},
   "source": [
    "##  特征构造\n",
    "在特征构造的时候，需要借助一些背景知识，遵循的一般原则就是需要发挥想象力，尽可能多的创造特征，不用先考虑哪些特征可能好，可能不好，先弥补这个广度。特征构造的时候需要考虑数值特征，类别特征，时间特征。\n",
    "\n",
    "对于数值特征，一般会尝试一些它们之间的加减组合（当然不要乱来，根据特征表达的含义）或者提取一些统计特征\n",
    "\n",
    "对于类别特征，我们一般会尝试之间的交叉组合，embedding也是一种思路\n",
    "\n",
    "对于时间特征，这一块又可以作为一个大专题来学习，在时间序列的预测中这一块非常重要，也会非常复杂，需要就尽可能多的挖掘时间信息，会有不同的方式技巧。当然在这个比赛中涉及的实际序列数据有一点点，不会那么复杂。\n"
   ]
  },
  {
   "cell_type": "markdown",
   "metadata": {},
   "source": [
    "![title](img/p2.png)"
   ]
  },
  {
   "cell_type": "code",
   "execution_count": 40,
   "metadata": {},
   "outputs": [
    {
     "data": {
      "text/html": [
       "<img src='p2.png', width=500, height=400>\n"
      ],
      "text/plain": [
       "<IPython.core.display.HTML object>"
      ]
     },
     "metadata": {},
     "output_type": "display_data"
    }
   ],
   "source": [
    "%%html\n",
    "<img src='p2.png', width=500, height=400>"
   ]
  },
  {
   "cell_type": "markdown",
   "metadata": {},
   "source": [
    "时间特征的构造(time_data)\n",
    "\n",
    "根据上面的分析，可以构造的时间特征如下：\n",
    "\n",
    "汽车的上线日期与汽车的注册日期之差就是汽车的使用时间，一般来说与价格成反比\n",
    "\n",
    "对汽车的使用时间进行分箱，使用了3年以下，3-7年，7-10年和10年以上，分为四个等级， 10年之后就是报废车了，应该会影响价格\n",
    "\n",
    "淡旺季也会影响价格，所以可以从汽车的上线日期上提取一下淡旺季信息\n",
    "\n",
    "\n",
    "\n",
    "汽车的使用时间特征\n",
    "\n",
    "createDate-regDate， 反应汽车使用时间，一般来说与价格成反比。但要注意的问题就是时间格式， regDateFalse这个字段有些是0月，如果忽略错误计算的话，使用时间有一些会是空值， 当然可以考虑删除这些空值，但是因为训练集和测试集合并了，那么就不轻易删除了。\n",
    "\n",
    "\n",
    "\n",
    "本文采取的办法是把错误字段都给他加1个月，然后计算出天数之后在加上30天（这个有不同的处理方式， 但是一般不喜欢删除或者置为空，因为删除和空值都有潜在的副作用）"
   ]
  },
  {
   "cell_type": "code",
   "execution_count": 41,
   "metadata": {},
   "outputs": [],
   "source": [
    "# 这里是为了标记一下哪些字段有错误\n",
    "def regDateFalse(x):\n",
    "    if str(x)[4:6] == '00':\n",
    "        return 1\n",
    "    else: \n",
    "        return 0\n",
    "original_data['regDateFalse'] = original_data['regDate'].apply(lambda x: regDateFalse(x))\n",
    "# 这里是改正错误字段\n",
    "def changeFalse(x):\n",
    "    x = str(x)\n",
    "    if x[4:6] == '00':\n",
    "        x = x[0:4] + '01' + x[6:]\n",
    "        x = int(x)\n",
    "    return x\n",
    "original_data['regDate'] = original_data['regDate'].apply(lambda x: changeFalse(x))\n",
    "# 使用时间：data['creatDate'] - data['regDate']，反应汽车使用时间，一般来说价格与使用时间成反比\n",
    "# 不过要注意，数据里有时间出错的格式，所以我们需要 errors='coerce'\n",
    "original_data['used_time'] = (pd.to_datetime(original_data['creatDate'], format='%Y%m%d') - \n",
    "                            pd.to_datetime(original_data['regDate'], format='%Y%m%d')).dt.days\n",
    "# 修改错误\n",
    "# 但是需要加上那一个月\n",
    "original_data.loc[original_data.regDateFalse==1, 'used_time'] += 30\n",
    "# 删除标记列\n",
    "del original_data['regDateFalse']"
   ]
  },
  {
   "cell_type": "markdown",
   "metadata": {},
   "source": [
    "一个特征构造完毕， used_time字段，表示汽车的使用时间"
   ]
  },
  {
   "cell_type": "markdown",
   "metadata": {},
   "source": [
    "汽车是不是符合报废\n",
    "\n",
    "时间特征还可以继续提取，我们假设用了10年的车作为报废车的话， 那么我们可以根据使用天数计算出年数， 然后根据年数构造出一个特征是不是报废"
   ]
  },
  {
   "cell_type": "code",
   "execution_count": null,
   "metadata": {},
   "outputs": [],
   "source": [
    "# 使用时间换成年来表示\n",
    "original_data['used_time'] = original_data['used_time'] / 365.0\n",
    "original_data['Is_scrap'] = original_data['used_time'].apply(lambda x: 1 if x>=10 else 0)"
   ]
  },
  {
   "cell_type": "code",
   "execution_count": 44,
   "metadata": {},
   "outputs": [],
   "source": [
    "bins = [0, 3, 7, 10, 20, 30]\n",
    "original_data['estivalue'] = pd.cut(original_data['used_time'], bins, labels=False)"
   ]
  },
  {
   "cell_type": "markdown",
   "metadata": {},
   "source": [
    "构造了两个时间特征。Is_scrap表示是否报废， estivalue表示使用时间的分箱。"
   ]
  },
  {
   "cell_type": "markdown",
   "metadata": {},
   "source": [
    "是不是淡旺季\n",
    "\n",
    "这个是根据汽车的上线售卖时间看， 每年的2， 3月份及6,7,8月份是整个汽车行业的低谷， 年初和年末及9月份是二手车销售的黄金时期， 所以根据上线时间选出淡旺季。"
   ]
  },
  {
   "cell_type": "code",
   "execution_count": 45,
   "metadata": {},
   "outputs": [],
   "source": [
    "# 选出淡旺季\n",
    "low_seasons = ['3', '6', '7', '8']\n",
    "original_data['is_low_seasons'] = original_data['creatDate'].apply(lambda x: 1 if str(x)[5] in low_seasons else 0)\n",
    "\n",
    "# 独热一下\n",
    "original_data = pd.get_dummies(original_data, columns=['is_low_seasons'])\n",
    "\n",
    "# 这样时间特征构造完毕，删除日期了\n",
    "del original_data['regDate']\n",
    "del original_data['creatDate']"
   ]
  },
  {
   "cell_type": "markdown",
   "metadata": {},
   "source": [
    "根据汽车的使用时间或者淡旺季分桶进行统计特征的构造"
   ]
  },
  {
   "cell_type": "markdown",
   "metadata": {},
   "source": [
    "类别特征的构造（cat_data）\n",
    "经过上面的分析，可以构造的类别特征如下：\n",
    "\n",
    "从邮编中提取城市信息， 因为是德国的数据，所以参考德国的邮编，加入先验知识， 但是感觉这个没有用，可以先试一下\n",
    "\n",
    "最好是从regioncode中提取出是不是华东地区，因为华东地区是二手车交易的主要地区（这个没弄出来，不知道这些编码到底指的哪跟哪）\n",
    "\n",
    "私用车和商用车分开（bodyType提取）\n",
    "\n",
    "是不是微型车单独处理，所以感觉那些车的类型OneHot的时候有点分散了（bodyType这个提取，然后one-hot）\n",
    "\n",
    "新能源车和燃油车分开（在fuelType中提取，然后进行OneHot）\n",
    "\n",
    "地区编码还是有影响的， 不同的地区汽车的保率不同\n",
    "\n",
    "品牌这块可以提取一些统计量， 统计特征的话上面这些新构造的特征其实也可以提取\n",
    "\n",
    "注意，OneHot不要太早，否则有些特征就没法提取潜在信息了。\n",
    "\n"
   ]
  },
  {
   "cell_type": "markdown",
   "metadata": {},
   "source": [
    "## 特征选择\n",
    "特征选择(排序)对于数据科学家、机器学习从业者来说非常重要。好的特征选择能够提升模型的性能，更能帮助我们理解数据的特点、底层结构，这对进一步改善模型、算法都有着重要作用。\n",
    "\n",
    "\n",
    "\n",
    "但是拿到数据集，一个特征选择方法，往往很难同时完成这两个目的。通常情况下，我们经常不管三七二十一，选择一种自己最熟悉或者最方便的特征选择方法（往往目的是降维，而忽略了对特征和数据理解的目的）, 但是真的好使吗？只能说具体问题具体分析，也许会暴力出奇迹呢。\n",
    "\n",
    "\n",
    "\n",
    "特征选择主要有两个功能：\n",
    "\n",
    "减少特征数量、降维，使模型泛化能力更强，减少过拟合\n",
    "\n",
    "增强对特征和特征值之间的理解\n",
    "\n",
    "\n",
    "\n",
    "通常来说，从两个方面考虑来选择特征：\n",
    "\n",
    "特征是否发散：如果一个特征不发散，例如方差接近于0，也就是说样本在这个特征上基本上没有差异，这个特征对于样本的区分并没有什么用。\n",
    "\n",
    "特征与目标的相关性：这点比较显见，与目标相关性高的特征，应当优选选择。\n",
    "\n",
    "\n",
    "\n",
    "根据特征选择的形式又可以将特征选择方法分为3种：\n",
    "\n",
    "Filter：过滤法，按照发散性或者相关性对各个特征进行评分，设定阈值或者待选择阈值的个数，选择特征。\n",
    "\n",
    "Wrapper：包装法，根据目标函数（通常是预测效果评分），每次选择若干特征，或者排除若干特征。\n",
    "\n",
    "Embedded：嵌入法，先使用某些机器学习的算法和模型进行训练，得到各个特征的权值系数，根据系数从大到小选择特征。类似于Filter方法，但是是通过训练来确定特征的优劣。\n",
    "\n"
   ]
  },
  {
   "cell_type": "markdown",
   "metadata": {},
   "source": [
    "### 过滤式\n",
    "\n",
    "主要思想: 对每一维特征“打分”，即给每一维的特征赋予权重，这样的权重就代表着该特征的重要性，然后依据权重排序。先进行特征选择，然后去训练学习器，所以特征选择的过程与学习器无关。相当于先对特征进行过滤操作，然后用特征子集来训练分类器。\n",
    "\n",
    "主要方法：\n",
    "\n",
    "移除低方差的特征；\n",
    "\n",
    "相关系数排序，分别计算每个特征与输出值之间的相关系数，设定一个阈值，选择相关系数大于阈值的部分特征；\n",
    "\n",
    "利用假设检验得到特征与输出值之间的相关性，方法有比如卡方检验、t检验、F检验等。\n",
    "\n",
    "互信息，利用互信息从信息熵的角度分析相关性。\n",
    "\n",
    "\n",
    "\n",
    "这里，本文为大家提供一些有价值的小tricks：\n",
    "\n",
    "对于数值型特征，方差很小的特征可以不要，因为太小没有什么区分度，提供不了太多的信息，对于分类特征，也是同理，取值个数高度偏斜的那种可以先去掉。\n",
    "\n",
    "根据与目标的相关性等选出比较相关的特征（当然有时候根据字段含义也可以选）\n",
    "\n",
    "卡方检验一般是检查离散变量与离散变量的相关性，当然离散变量的相关性信息增益和信息增益比也是不错的选择（可以通过决策树模型来评估来看），person系数一般是查看连续变量与连续变量的线性相关关系。"
   ]
  },
  {
   "cell_type": "markdown",
   "metadata": {},
   "source": [
    "### 去掉取值变化小的特征\n",
    "\n",
    "这应该是最简单的特征选择方法了：假设某特征的特征值只有0和1，并且在所有输入样本中，95%的实例的该特征取值都是1，那就可以认为这个特征作用不大。如果100%都是1，那这个特征就没意义了。\n",
    "\n",
    "\n",
    "\n",
    "当特征值都是离散型变量的时候这种方法才能用，如果是连续型变量，就需要将连续变量离散化之后才能用，而且实际当中，一般不太会有95%以上都取某个值的特征存在，所以这种方法虽然简单但是不太好用。\n",
    "\n",
    "\n",
    "\n",
    "可以把它作为特征选择的预处理，先去掉那些取值变化小的特征，然后再从接下来提到的的特征选择方法中选择合适的进行进一步的特征选择。"
   ]
  },
  {
   "cell_type": "markdown",
   "metadata": {},
   "source": [
    "### 单变量特征选择\n",
    "\n",
    "单变量特征选择能够对每一个特征进行测试，衡量该特征和响应变量之间的关系，根据得分扔掉不好的特征。对于回归和分类问题可以采用卡方检验等方式对特征进行测试。\n",
    "\n",
    "\n",
    "\n",
    "这种方法比较简单，易于运行，易于理解，通常对于理解数据有较好的效果（但对特征优化、提高泛化能力来说不一定有效）；这种方法有许多改进的版本、变种。\n",
    "\n",
    "\n",
    "\n",
    "下面重点介绍一下pearson相关系数，皮尔森相关系数是一种最简单的，比较常用的方式。能帮助理解特征和响应变量之间关系的方法，该方法衡量的是变量之间的线性相关性，结果的取值区间为[-1，1]，-1表示完全的负相关(这个变量下降，那个就会上升)，+1表示完全的正相关，0表示没有线性相关。\n",
    "\n",
    "\n",
    "\n",
    "Pearson Correlation速度快、易于计算，经常在拿到数据(经过清洗和特征提取之后的)之后第一时间就执行。Scipy的pearsonr方法能够同时计算相关系数和p-value, 当然pandas的corr也可以计算。\n",
    "\n",
    "\n",
    "\n",
    "直接根据pearson系数画出图像"
   ]
  },
  {
   "cell_type": "code",
   "execution_count": 47,
   "metadata": {},
   "outputs": [],
   "source": [
    "# corr = original_data.corr('price')    # .corr('spearman')\n",
    "# plt.figure(figsize=(25, 15))\n",
    "# corr['price'].sort_values(ascending=False)[1:].plot(kind='bar')\n",
    "# plt.tight_layout()"
   ]
  },
  {
   "cell_type": "markdown",
   "metadata": {},
   "source": [
    "当然，这个数据用pearson系数可能不是那么合理，可以使用spearman系数，这个被认为是排列后的变量的pearson的相关系数， 具体的可以看(Pearson)皮尔逊相关系数和spearman相关系数, 这里只整理两者的区别和使用场景, 区别如下：\n",
    "\n",
    "连续数据，正态分布，线性关系，用pearson相关系数是最恰当，当然用spearman相关系数也可以，效率没有pearson相关系数高。\n",
    "\n",
    "上述任一条件不满足，就用spearman相关系数，不能用pearson相关系数。\n",
    "\n",
    "两个定序测量数据（顺序变量）之间也用spearman相关系数，不能用pearson相关系数。\n",
    "\n",
    "Pearson相关系数的一个明显缺陷是，作为特征排序机制，他只对线性关系敏感。如果关系是非线性的，即便两个变量具有一一对应的关系，Pearson相关性也可能会接近0。\n",
    "\n",
    "\n",
    "\n",
    "当然还可以画出热力图来，这个不陌生了吧， 这个的目的是可以看变量之间的关系， 相关性大的，可以考虑保留其中一个："
   ]
  },
  {
   "cell_type": "markdown",
   "metadata": {},
   "source": [
    "从上面两个步骤中，就可以发现一些结论：\n",
    "\n",
    "根据与price的线性相关关系来看的话，我们可以考虑正负相关0.6以上的特征， v_std, v_12, v_0, v_8, estivalue_price_average, estivalue_price_median, estivalue_price_std， kil_bin, kilmoeter, estivalue_count, used_time, estivalue, v_3\n",
    "\n",
    "某些变量之间有很强的的关联性，比如v_mean和v_sum，这俩的相关性是1，所以可以删掉其中一个。\n",
    "\n",
    "当然，依然是备选删除选项和备选保留选项（这些都先别做）， 因为我们有时候不能盲目，就比如上面的相关性，明明知道pearson的缺陷是无法捕捉非线性相关，所以得出的这个结论也是片面的结论。这些都是备选，先做个心中有数，后面再用一些别的方式看看再说（如果现在就删除了，后面的方法就不好判断了）\n",
    "\n"
   ]
  },
  {
   "cell_type": "markdown",
   "metadata": {},
   "source": [
    "### 包裹式\n",
    "\n",
    "单变量特征选择方法独立的衡量每个特征与响应变量之间的关系，另一种主流的特征选择方法是基于机器学习模型的方法。有些机器学习方法本身就具有对特征进行打分的机制，或者很容易将其运用到特征选择任务中，例如回归模型，SVM，决策树，随机森林等等。\n",
    "\n",
    "\n",
    "\n",
    "主要思想：包裹式从初始特征集合中不断的选择特征子集，训练学习器，根据学习器的性能来对子集进行评价，直到选择出最佳的子集。包裹式特征选择直接针对给定学习器进行优化。\n",
    "\n",
    "主要方法：递归特征消除算法, 基于机器学习模型的特征排序\n",
    "\n",
    "优缺点：\n",
    "\n",
    "优点：从最终学习器的性能来看，包裹式比过滤式更好；\n",
    "\n",
    "缺点：由于特征选择过程中需要多次训练学习器，因此包裹式特征选择的计算开销通常比过滤式特征选择要大得多。\n",
    "\n",
    "\n",
    "\n",
    "下面，这里整理基于学习模型的特征排序方法，这种方法的思路是直接使用你要用的机器学习算法，针对每个单独的特征和响应变量建立预测模型。其实Pearson相关系数等价于线性回归里的标准化回归系数。\n",
    "\n",
    "\n",
    "\n",
    "假如某个特征和响应变量之间的关系是非线性的，可以用基于树的方法（决策树、随机森林）、或者扩展的线性模型等。基于树的方法比较易于使用，因为他们对非线性关系的建模比较好，并且不需要太多的调试。但要注意过拟合问题，因此树的深度最好不要太大，再就是运用交叉验证。\n",
    "\n",
    "\n",
    "\n",
    "我们可以用随机森林来跑一下，看看随机森林比较喜欢特征："
   ]
  },
  {
   "cell_type": "code",
   "execution_count": null,
   "metadata": {},
   "outputs": [],
   "source": [
    "\n",
    "from sklearn.model_selection import cross_val_score, ShuffleSplit\n",
    "from sklearn.ensemble import RandomForestRegressor\n",
    "from sklearn.model_selection import KFold\n",
    "\n",
    "X = select_data.iloc[:, :-1]\n",
    "Y = select_data['price']\n",
    "names = select_data.columns\n",
    "\n",
    "rf = RandomForestRegressor(n_estimators=20, max_depth=4)\n",
    "kfold = KFold(n_splits=5, shuffle=True, random_state=7)\n",
    "scores = []\n",
    "for column in X.columns:\n",
    "    print(column)\n",
    "    tempx = X[column].values.reshape(-1, 1)\n",
    "    score = cross_val_score(rf, tempx, Y, scoring=\"r2\",\n",
    "                              cv=kfold)\n",
    "    scores.append((round(np.mean(score), 3), column))\n",
    "print(sorted(scores, reverse=True))"
   ]
  },
  {
   "cell_type": "markdown",
   "metadata": {},
   "source": [
    "###  嵌入式\n",
    "\n",
    "在过滤式和包裹式特征选择方法中，特征选择过程与学习器训练过程有明显的分别。而嵌入式特征选择在学习器 训练过程中自动地进行特征选择。嵌入式选择最常用的是L1正则化与L2正则化。在对线性回归模型加入两种正则化方法后，他们分别变成了岭回归与Lasso回归。\n",
    "\n",
    "\n",
    "\n",
    "主要思想：在模型既定的情况下学习出对提高模型准确性最好的特征。也就是在确定模型的过程中，挑选出那些对模型的训练有重要意义的特征。\n",
    "\n",
    "主要方法：简单易学的机器学习算法–岭回归（Ridge Regression），就是线性回归过程加入了L2正则项。\n",
    "\n",
    "\n",
    "\n",
    "L1正则化有助于生成一个稀疏权值矩阵，进而可以用于特征选择\n",
    "\n",
    "\n",
    "\n",
    "L2正则化在拟合过程中通常都倾向于让权值尽可能小，最后构造一个所有参数都比较小的模型。因为一般认为参 数值小的模型比较简单，能适应不同的数据集，也在一定程度上避免了过拟合现象。可以设想一下对于一个线性 回归方程，若参数很大，那么只要数据偏移一点点，就会对结果造成很大的影响；但如果参数足够小，数据偏移 得多一点也不会对结果造成什么影响，专业一点的说法是『抗扰动能力强』\n",
    "\n",
    "\n",
    "\n",
    "这里简单介绍一下怎么使用，其实和上面机器学习模型的使用方法一样， 所以有时候这些方法没有必要严格的区分开："
   ]
  },
  {
   "cell_type": "markdown",
   "metadata": {},
   "source": [
    "### PCA降维技术\n",
    "通过上面的特征选择部分，可以选出更好的分析特征，但是如果这些特征维度仍然很高怎么办？\n",
    "\n",
    "\n",
    "\n",
    "如果数据特征维度太高，首先计算很麻烦，其次增加了问题的复杂程度，分析起来也不方便。这时候就会想是不是再去掉一些特征就好了呢？但是这个特征也不是凭自己的意愿去掉的，因为盲目减少数据的特征会损失掉数据包含的关键信息，容易产生错误的结论，对分析不利。\n",
    "\n",
    "\n",
    "\n",
    "所以想找到一个合理的方式，既可以减少需要分析的指标，而且尽可能多的保持原来数据的信息，PCA就是这个合理的方式之一。 但要注意一点， 特征选择是从已存在的特征中选取携带信息最多的，选完之后的特征依然具有可解释性，而PCA，将已存在的特征压缩，降维完毕后不是原来特征的任何一个，也就是PCA降维之后的特征我们根本不知道什么含义了。\n",
    "\n"
   ]
  },
  {
   "cell_type": "code",
   "execution_count": null,
   "metadata": {},
   "outputs": [],
   "source": []
  }
 ],
 "metadata": {
  "kernelspec": {
   "display_name": "Python 3",
   "language": "python",
   "name": "python3"
  },
  "language_info": {
   "codemirror_mode": {
    "name": "ipython",
    "version": 3
   },
   "file_extension": ".py",
   "mimetype": "text/x-python",
   "name": "python",
   "nbconvert_exporter": "python",
   "pygments_lexer": "ipython3",
   "version": "3.8.3"
  }
 },
 "nbformat": 4,
 "nbformat_minor": 4
}
